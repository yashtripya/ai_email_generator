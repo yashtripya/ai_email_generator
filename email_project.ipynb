{
  "nbformat": 4,
  "nbformat_minor": 0,
  "metadata": {
    "colab": {
      "provenance": [],
      "authorship_tag": "ABX9TyOdGEi+tXEUW4dXyjEdnvTT",
      "include_colab_link": true
    },
    "kernelspec": {
      "name": "python3",
      "display_name": "Python 3"
    },
    "language_info": {
      "name": "python"
    }
  },
  "cells": [
    {
      "cell_type": "markdown",
      "metadata": {
        "id": "view-in-github",
        "colab_type": "text"
      },
      "source": [
        "<a href=\"https://colab.research.google.com/github/yashtripya/ai_email_generator/blob/main/email_project.ipynb\" target=\"_parent\"><img src=\"https://colab.research.google.com/assets/colab-badge.svg\" alt=\"Open In Colab\"/></a>"
      ]
    },
    {
      "cell_type": "code",
      "execution_count": null,
      "metadata": {
        "id": "bE8DxGoj9PV7"
      },
      "outputs": [],
      "source": [
        "!pip install transformers accelerate"
      ]
    },
    {
      "cell_type": "code",
      "source": [
        "from transformers import AutoModelForCausalLM, AutoTokenizer, pipeline\n",
        "import torch\n",
        "\n",
        "MODEL_NAME = \"TinyLlama/TinyLlama-1.1B-Chat-v1.0\"\n",
        "\n",
        "print(\"🔄 Loading the model. Please wait...\")\n",
        "tokenizer = AutoTokenizer.from_pretrained(MODEL_NAME)\n",
        "model = AutoModelForCausalLM.from_pretrained(MODEL_NAME, trust_remote_code=True)\n",
        "\n",
        "generator = pipeline(\n",
        "    \"text-generation\",\n",
        "    model=model,\n",
        "    tokenizer=tokenizer,\n",
        "    torch_dtype=torch.float32,\n",
        "    device=0 if torch.cuda.is_available() else -1\n",
        ")\n",
        "print(\"✅ Model loaded successfully!\")\n",
        "\n",
        "def build_prompt(purpose, recipient, points, tone, sender):\n",
        "    bullet_text = '\\n'.join(f\"- {point}\" for point in points)\n",
        "    return (\n",
        "        f\"Write a {tone} email to a {recipient} regarding: {purpose}.\\n\"\n",
        "        f\"Include the following key points:\\n{bullet_text}\\n\"\n",
        "        f\"Start with a subject line, then write the body.\\n\"\n",
        "        f\"End the email with: \\nRegards,\\n{sender}\\n\\n\"\n",
        "        f\"Subject:\"\n",
        "    )\n",
        "\n",
        "def generate_text(prompt):\n",
        "    output = generator(\n",
        "        prompt,\n",
        "        max_new_tokens=250,\n",
        "        do_sample=True,\n",
        "        temperature=0.7,\n",
        "        top_k=50,\n",
        "        top_p=0.95\n",
        "    )\n",
        "    raw_text = output[0][\"generated_text\"].strip()\n",
        "    return clean_output(raw_text, prompt)\n",
        "\n",
        "def clean_output(text, prompt):\n",
        "    if text.startswith(prompt):\n",
        "        text = text[len(prompt):].strip()\n",
        "    last_punc = max(text.rfind(p) for p in [\".\", \"!\", \"?\"])\n",
        "    return text[:last_punc + 1].strip() if last_punc != -1 else text.strip()\n",
        "\n",
        "def get_inputs():\n",
        "    print(\"\\n\" + \"=\" * 60)\n",
        "    print(\"📬 AI EMAIL GENERATOR\".center(60))\n",
        "    print(\"=\" * 60)\n",
        "\n",
        "    sender = input(\"✍️  Enter your name (Sender): \").strip()\n",
        "    recipient = input(\"👤 Who is the recipient? (e.g., Manager, Friend): \").strip()\n",
        "    purpose = input(\"📝 What is the purpose of the email? (e.g., job application, invite): \").strip()\n",
        "\n",
        "    print(\"\\n🧾 Enter bullet points you want included (type 'done' to finish):\")\n",
        "    points = []\n",
        "    while True:\n",
        "        item = input(\"➤ \").strip()\n",
        "        if item.lower() == \"done\":\n",
        "            break\n",
        "        if item:\n",
        "            points.append(item)\n",
        "\n",
        "    print(\"\\n🎯 Choose the tone of your email:\\n1. Formal\\n2. Informal\")\n",
        "    tone = \"formal\" if input(\"Select option (1 or 2): \").strip() == \"1\" else \"informal\"\n",
        "\n",
        "    return purpose, recipient, points, tone, sender\n",
        "\n",
        "def main():\n",
        "    purpose, recipient, points, tone, sender = get_inputs()\n",
        "    prompt = build_prompt(purpose, recipient, points, tone, sender)\n",
        "    print(\"\\n✨ Generating your email. Please wait...\")\n",
        "    result = generate_text(prompt)\n",
        "    print(\"\\n\" + \"=\" * 60)\n",
        "    print(\"📨 Generated Email:\\n\")\n",
        "    print(result)\n",
        "\n",
        "if __name__ == \"__main__\":\n",
        "    main()\n"
      ],
      "metadata": {
        "id": "WHSbGO1p9Sg7"
      },
      "execution_count": null,
      "outputs": []
    }
  ]
}